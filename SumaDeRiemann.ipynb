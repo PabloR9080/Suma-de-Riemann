{
  "nbformat": 4,
  "nbformat_minor": 0,
  "metadata": {
    "colab": {
      "name": "SumaDeRiemann.ipynb",
      "provenance": [],
      "collapsed_sections": [],
      "authorship_tag": "ABX9TyMXW5m943Zfl7UJwb4lWEul",
      "include_colab_link": true
    },
    "kernelspec": {
      "name": "python3",
      "display_name": "Python 3"
    }
  },
  "cells": [
    {
      "cell_type": "markdown",
      "metadata": {
        "id": "view-in-github",
        "colab_type": "text"
      },
      "source": [
        "<a href=\"https://colab.research.google.com/github/PabloR9080/Suma-de-Riemann/blob/main/SumaDeRiemann.ipynb\" target=\"_parent\"><img src=\"https://colab.research.google.com/assets/colab-badge.svg\" alt=\"Open In Colab\"/></a>"
      ]
    },
    {
      "cell_type": "code",
      "metadata": {
        "id": "e_4fQUsU7OIH",
        "outputId": "3852334d-93db-4342-86dc-8370a62f2115",
        "colab": {
          "base_uri": "https://localhost:8080/",
          "height": 553
        }
      },
      "source": [
        "import numpy as np\n",
        "import matplotlib.pyplot as plt\n",
        "while True:\n",
        "    a = int(input(\"Ingrese el limite inferior \"))\n",
        "    b = int(input(\"Ingrese el limite superior \"))\n",
        "    if (b > a):\n",
        "        break\n",
        "    else:\n",
        "        print(\"Error. Limite superior menor al inferior.\\n\")\n",
        "n = int(input(\"Ingrese n elementos en una particion regular: \"))\n",
        "apertura = (b - a) / n\n",
        "N=n\n",
        "x = np.arange(a, b, n*N+1)\n",
        "\n",
        "#Ingresar opcion\n",
        "op = int(\n",
        "    input(\n",
        "        \"\\nIngrese la opcion (1) Polinomio (hasta x^4) (2) Trigonometrica (Sen o cos)\\n\"\n",
        "    ))\n",
        "#Selección de extremos: WIP\n",
        "#op2 = int(\n",
        "#    input(\n",
        "#        \"Ingrese opcion (1) Extremos derechos (2) Extremos izquierdos (3) Medios \\n\"\n",
        "#    ))\n",
        "\n",
        "if op == 1:\n",
        "    coe = input(\n",
        "        'Ingrese coeficientes para x^4, x^3, x^2,x^1,independiente separados de un espacio:\\n'\n",
        "    )\n",
        "    coe = [int(num) for num in coe.split()]\n",
        "    f = lambda p, q, c, d, e: p**4 + q**3 + c**2 + d**1 + e\n",
        "    print(f(*coe))\n",
        "    X = np.linspace(a,b,n*N+1)\n",
        "    Y = f(coe[0]*X,coe[1]*X,coe[2]*X,coe[3]*X,coe[4]*X)\n",
        "    w = np.linspace(a,b,N+1)\n",
        "    z = f(coe[0]*w,coe[1]*w,coe[2]*w,coe[3]*w,coe[4]*w)\n",
        "else:\n",
        "    if op == 2:\n",
        "        op3 = int(input(\"Ingrese (1) Seno (2) Coseno\\n\"))\n",
        "        w = np.linspace(a,b,N+1)\n",
        "        X = np.linspace(a,b,n*N+1)\n",
        "        \n",
        "        if op3 == 1:\n",
        "            f = lambda x: np.sin(x)\n",
        "            z = f(w)\n",
        "            Y = f(X)\n",
        "        else:\n",
        "            f = lambda x: np.cos(x)\n",
        "            z = f(w)\n",
        "            Y = f(X)\n",
        "\n",
        "summ = 0\n",
        "if op == 1:\n",
        "    for i in range(1, n + 1):\n",
        "        y = f(coe[0] * (a + (i * apertura)), coe[1] * (a + (i * apertura)),\n",
        "              coe[2] * (a + (i * apertura)), coe[3] * (a + (i * apertura)),\n",
        "              coe[4] * (a + (i * apertura)))\n",
        "        summ += y\n",
        "\n",
        "if op == 2:\n",
        "    for i in range(1, n + 1):\n",
        "        y = f(a + (i * apertura))\n",
        "        summ += y\n",
        "\n",
        "\n",
        "\n",
        " \n",
        "print(\"Pablo André Rosas Marín Licenciatura en Ing. de Software Grupo 1\")\n",
        "\n",
        "print(\"Limite inferior: \" + str(a) + \"\\nLimite superior: \" + str(b) + \"\\nIntervalo [\" + str(a) +\n",
        "      \",\" + str(b) + \"]\")\n",
        "print(\"Numero de elementos en una partición regular: \" + str(n))\n",
        "print(\"Apertura de cada x: \"+ str(apertura))\n",
        "summ *= apertura\n",
        "print(\"Suma de Rieman: \" + str(summ))\n",
        "\n",
        "\n",
        "opSum = int(input(\"Ingrese una opción (1)Extremos izquierdos (2)Punto medios (3)Extremos derechos\"))\n",
        "if opSum==1:\n",
        "    plt.plot(X,Y,'r')\n",
        "    x_lft = w[:-1]\n",
        "    y_lft = z[:-1]\n",
        "    plt.plot(x_lft,y_lft,'r.',markersize=11)\n",
        "    plt.bar(x_lft,y_lft,width=(b-a)/N,alpha=0.2,align='edge',edgecolor='b')\n",
        "if opSum==2:\n",
        "    plt.plot(X,Y,'r')\n",
        "    x_mid = (w[1:]+w[:-1])/2\n",
        "    y_mid = f(x_mid)\n",
        "    plt.plot(x_mid,y_mid,'g.',markersize=11)\n",
        "    plt.bar(x_lft,y_lft,width=(b-a)/N,alpha=0.2,edgecolor='b')\n",
        "if opSum == 3:\n",
        "    plt.plot(X,Y,'b')\n",
        "    x_right = w[1:] # Right endpoints\n",
        "    y_right = z[1:]\n",
        "    plt.plot(x_right,y_right,'c.',markersize=11)\n",
        "    plt.bar(x_right,y_right,width=-(b-a)/N,alpha=0.2,align='edge',edgecolor='b')\n",
        "    plt.title('Suma de Riemann por la derecha, N = '+ str(N))\n",
        "\n"
      ],
      "execution_count": 2,
      "outputs": [
        {
          "output_type": "stream",
          "text": [
            "Ingrese el limite inferior 0\n",
            "Ingrese el limite superior 10\n",
            "Ingrese n elementos en una particion regular: 20\n",
            "\n",
            "Ingrese la opcion (1) Polinomio (hasta x^4) (2) Trigonometrica (Sen o cos)\n",
            "2\n",
            "Ingrese (1) Seno (2) Coseno\n",
            "1\n",
            "Pablo André Rosas Marín Licenciatura en Ing. de Software Grupo 1\n",
            "Limite inferior: 0\n",
            "Limite superior: 10\n",
            "Intervalo [0,10]\n",
            "Numero de elementos en una partición regular: 20\n",
            "Apertura de cada x: 0.5\n",
            "Suma de Riemann por lado derecho: 1.6645916633146753\n"
          ],
          "name": "stdout"
        },
        {
          "output_type": "execute_result",
          "data": {
            "text/plain": [
              "Text(0.5, 1.0, 'Suma de Riemann por la derecha, N = 20')"
            ]
          },
          "metadata": {
            "tags": []
          },
          "execution_count": 2
        },
        {
          "output_type": "display_data",
          "data": {
            "image/png": "[encoded data removed]",
            "text/plain": [
              "<Figure size 432x288 with 1 Axes>"
            ]
          },
          "metadata": {
            "tags": [],
            "needs_background": "light"
          }
        }
      ]
    }
  ]
}